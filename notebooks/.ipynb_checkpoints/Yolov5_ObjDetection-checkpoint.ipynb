{
 "cells": [
  {
   "cell_type": "markdown",
   "metadata": {},
   "source": [
    "# Hands detection via Transfert Learning on YOLOv5\n",
    "\n",
    "This project demonstrates transfer learning using a pre-trained YOLOv5 model to identify hands.\n",
    "\n",
    "## Table of contents\n",
    "* [Part 0: Goals](#p0)\n",
    "* [Part 1: Import YOLO Model and Architecture summary](#p1)\n",
    "* [Part 2: Data Loading and Preprocessing](#p2)\n",
    "* [Part 3: Transfer Learning on model](#p3)\n",
    "* [Part 4: Training model](#p4)\n",
    "* [Part 5: Evaluation](#p5)\n",
    "* [Part 6: Visualizations of predictions](#p6)\n",
    "* [Part 7: Hyperparameters tuning / Optimization](#p7)\n",
    "* [Part 8: Deployment?](#p8)\n",
    "\n"
   ]
  },
  {
   "cell_type": "markdown",
   "metadata": {},
   "source": [
    "<a id='p1'></a>\n",
    "### Part 1: Import YOLO Model and Architecture summary"
   ]
  },
  {
   "cell_type": "code",
   "execution_count": null,
   "metadata": {},
   "outputs": [],
   "source": [
    "import os\n",
    "os.environ['TF_CPP_MIN_LOG_LEVEL'] = '3' # Prevent tensorflow from showcasing common errors\n",
    "\n",
    "import tensorflow as tf \n",
    "\n",
    "\n",
    "gpu_device = tf.device('GPU:0')\n",
    "\n",
    "yolo_model = tf.saved_model.load('../data/yolov5s_saved_model')\n",
    "\n",
    "yolo_model.summary()"
   ]
  },
  {
   "cell_type": "markdown",
   "metadata": {},
   "source": [
    "<a id='p2'></a>\n",
    "### Part 2: Data Loading and Preprocessing\n",
    "\n",
    "Datasets in use: \n",
    "* [Hagrid](https://www.kaggle.com/datasets/kapitanov/hagrid)\n",
    "* [Hands and Palms](https://www.kaggle.com/datasets/shyambhu/hands-and-palm-images-dataset)"
   ]
  },
  {
   "cell_type": "code",
   "execution_count": null,
   "metadata": {},
   "outputs": [],
   "source": [
    "# Handling Hagrid\n",
    "\n",
    "\n",
    "# Handling HandP\n",
    "\n"
   ]
  },
  {
   "cell_type": "markdown",
   "metadata": {},
   "source": [
    "<a id='p3'></a>\n",
    "### Part 3: Transfer Learning on model"
   ]
  },
  {
   "cell_type": "markdown",
   "metadata": {},
   "source": [
    "<a id='p4'></a>\n",
    "### Part 4: Training model"
   ]
  },
  {
   "cell_type": "markdown",
   "metadata": {},
   "source": [
    "<a id='p5'></a>\n",
    "### Part 5: Evaluation"
   ]
  },
  {
   "cell_type": "markdown",
   "metadata": {},
   "source": [
    "<a id='p6'></a>\n",
    "### Part 6: Visualizations of predictions"
   ]
  },
  {
   "cell_type": "markdown",
   "metadata": {},
   "source": [
    "<a id='p7'></a>\n",
    "### Part 7: Hyperparameters tuning / Optimization"
   ]
  },
  {
   "cell_type": "markdown",
   "metadata": {},
   "source": [
    "<a id='p8'></a>\n",
    "### Part 8: Deployment?"
   ]
  }
 ],
 "metadata": {
  "language_info": {
   "name": "python"
  }
 },
 "nbformat": 4,
 "nbformat_minor": 2
}
